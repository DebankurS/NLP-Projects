{
 "cells": [
  {
   "cell_type": "code",
   "execution_count": 1,
   "metadata": {},
   "outputs": [],
   "source": [
    "import pandas as pd\n",
    "import nltk\n",
    "pd.set_option('display.max_colwidth', -1)"
   ]
  },
  {
   "cell_type": "code",
   "execution_count": 2,
   "metadata": {},
   "outputs": [
    {
     "data": {
      "text/html": [
       "<div>\n",
       "<style scoped>\n",
       "    .dataframe tbody tr th:only-of-type {\n",
       "        vertical-align: middle;\n",
       "    }\n",
       "\n",
       "    .dataframe tbody tr th {\n",
       "        vertical-align: top;\n",
       "    }\n",
       "\n",
       "    .dataframe thead th {\n",
       "        text-align: right;\n",
       "    }\n",
       "</style>\n",
       "<table border=\"1\" class=\"dataframe\">\n",
       "  <thead>\n",
       "    <tr style=\"text-align: right;\">\n",
       "      <th></th>\n",
       "      <th>User_ID</th>\n",
       "      <th>Description</th>\n",
       "      <th>Browser_Used</th>\n",
       "      <th>Device_Used</th>\n",
       "      <th>Is_Response</th>\n",
       "    </tr>\n",
       "  </thead>\n",
       "  <tbody>\n",
       "    <tr>\n",
       "      <th>0</th>\n",
       "      <td>11755</td>\n",
       "      <td>After reading mixed reviews I almost didn't book at the W, but I was attending a concert at the Pantages Theatre and you can't get any more convenient than the W. For those using mass transit, it's literally on top of the Hollywood and Vine station - take the Red Line from Union Station.\\r\\nATTITUDE: yes, this is a new and very hip hotel. But every staff member I met was friendly and totally committed to service. From the valet parking to the front desk to room service to the Men in Black (security folks needed for the club scene), everyone was great.\\r\\nFOOD: I always sample room service my first time at any property. Food arrived earlier than promised and I was impressed. The onion soup gratinee was simply the best I've ever had. A simple prime beef cheeseburger was great: a hand formed patty in a light bun with the usual trimmings and condiments. And the French fries... I've never been impressed by fries before but now I am.\\r\\nROOM: Trendy, well appointed and comfortable. The universal cell phone (or other gizmo) charger was handy. If you're worried about party noise from the clubs, spend a few extra bucks for an exterior-facing room. I did and had no trouble with noise.\\r\\nSUMMARY: Would I come here again? Absolutely.</td>\n",
       "      <td>Google Chrome</td>\n",
       "      <td>Desktop</td>\n",
       "      <td>Good</td>\n",
       "    </tr>\n",
       "    <tr>\n",
       "      <th>1</th>\n",
       "      <td>33912</td>\n",
       "      <td>This motor inn is located about - city blocks from Fisherman's Warf and about - blocks from the Embarcadero. You are in North Beach and walking distance from China Town and all city transportation. The hotel itself is small and clean. It is old and not updated, but the beds were still good and the room was well cleaned daily. My only complaint would be the bathroom space being a bit small for our family. There was a great, large, flat screen (not that we were there very often)! The staff was extremely accommodating and helpful with recommendations and directions. There is free parking here, which is amazing!</td>\n",
       "      <td>Firefox</td>\n",
       "      <td>Tablet</td>\n",
       "      <td>Good</td>\n",
       "    </tr>\n",
       "    <tr>\n",
       "      <th>2</th>\n",
       "      <td>10143</td>\n",
       "      <td>It was our first time there and surely not our last. Arrived very early off the train and went there to drop off our luggage but to our surprise the room was already ! The rooftop bar ia certainly beautiful. The hospitality within the hotel superb ! I admireed the european breakfast but wished they had more healthy choices. Perhaps a pan of scrambled eggs instead of all the pastries and rolls. Too many carbs and not enough protein. Wish there ahad been a coffe maker in the room too. See you all soon.</td>\n",
       "      <td>Google Chrome</td>\n",
       "      <td>Mobile</td>\n",
       "      <td>Good</td>\n",
       "    </tr>\n",
       "    <tr>\n",
       "      <th>3</th>\n",
       "      <td>33114</td>\n",
       "      <td>Great hotel in an excellent location, just off Times Square and next door to the Nederlander Theatre (home of the musical Rent). Rooms very clean and lovely fresh muffins at breakfast!\\r\\nBeware if your room is on the first floor, we could hear the noise from the hotel bar below. It does close at a reasonable hour,but if you need an early night after a hard day sightseeing then ask for a high floor cos it did keep us awake.</td>\n",
       "      <td>Mozilla</td>\n",
       "      <td>Desktop</td>\n",
       "      <td>Good</td>\n",
       "    </tr>\n",
       "    <tr>\n",
       "      <th>4</th>\n",
       "      <td>17464</td>\n",
       "      <td>We stayed at the hotel for - weeks to get away from a very long Massachusetts winter. The hotel is on an island with a waterway in front and a marina in the back. Our room had a table so we could play cards eat etc. with the water view. \\r\\nThe only thing negative at all is the light was a little dim in the room.\\r\\nThe staff is very friendly &amp; helpful. They were always willing to recommend restaurants and gave us coupons to the many attractions that San Diego has to offer. They let us use beach bikes to explore the island. There is little or no traffic there and a trail that is on the other side of the marina.\\r\\nIt was a great vacation!\\r\\nWe will be back!</td>\n",
       "      <td>Google Chrome</td>\n",
       "      <td>Desktop</td>\n",
       "      <td>Good</td>\n",
       "    </tr>\n",
       "  </tbody>\n",
       "</table>\n",
       "</div>"
      ],
      "text/plain": [
       "   User_ID  \\\n",
       "0  11755     \n",
       "1  33912     \n",
       "2  10143     \n",
       "3  33114     \n",
       "4  17464     \n",
       "\n",
       "                                                                                                                                                                                                                                                                                                                                                                                                                                                                                                                                                                                                                                                                                                                                                                                                                                                                                                                                                                                                                                                                                                                                                                                                                                                                                  Description  \\\n",
       "0  After reading mixed reviews I almost didn't book at the W, but I was attending a concert at the Pantages Theatre and you can't get any more convenient than the W. For those using mass transit, it's literally on top of the Hollywood and Vine station - take the Red Line from Union Station.\\r\\nATTITUDE: yes, this is a new and very hip hotel. But every staff member I met was friendly and totally committed to service. From the valet parking to the front desk to room service to the Men in Black (security folks needed for the club scene), everyone was great.\\r\\nFOOD: I always sample room service my first time at any property. Food arrived earlier than promised and I was impressed. The onion soup gratinee was simply the best I've ever had. A simple prime beef cheeseburger was great: a hand formed patty in a light bun with the usual trimmings and condiments. And the French fries... I've never been impressed by fries before but now I am.\\r\\nROOM: Trendy, well appointed and comfortable. The universal cell phone (or other gizmo) charger was handy. If you're worried about party noise from the clubs, spend a few extra bucks for an exterior-facing room. I did and had no trouble with noise.\\r\\nSUMMARY: Would I come here again? Absolutely.   \n",
       "1  This motor inn is located about - city blocks from Fisherman's Warf and about - blocks from the Embarcadero. You are in North Beach and walking distance from China Town and all city transportation. The hotel itself is small and clean. It is old and not updated, but the beds were still good and the room was well cleaned daily. My only complaint would be the bathroom space being a bit small for our family. There was a great, large, flat screen (not that we were there very often)! The staff was extremely accommodating and helpful with recommendations and directions. There is free parking here, which is amazing!                                                                                                                                                                                                                                                                                                                                                                                                                                                                                                                                                                                                                                                      \n",
       "2  It was our first time there and surely not our last. Arrived very early off the train and went there to drop off our luggage but to our surprise the room was already ! The rooftop bar ia certainly beautiful. The hospitality within the hotel superb ! I admireed the european breakfast but wished they had more healthy choices. Perhaps a pan of scrambled eggs instead of all the pastries and rolls. Too many carbs and not enough protein. Wish there ahad been a coffe maker in the room too. See you all soon.                                                                                                                                                                                                                                                                                                                                                                                                                                                                                                                                                                                                                                                                                                                                                                    \n",
       "3  Great hotel in an excellent location, just off Times Square and next door to the Nederlander Theatre (home of the musical Rent). Rooms very clean and lovely fresh muffins at breakfast!\\r\\nBeware if your room is on the first floor, we could hear the noise from the hotel bar below. It does close at a reasonable hour,but if you need an early night after a hard day sightseeing then ask for a high floor cos it did keep us awake.                                                                                                                                                                                                                                                                                                                                                                                                                                                                                                                                                                                                                                                                                                                                                                                                                                                  \n",
       "4  We stayed at the hotel for - weeks to get away from a very long Massachusetts winter. The hotel is on an island with a waterway in front and a marina in the back. Our room had a table so we could play cards eat etc. with the water view. \\r\\nThe only thing negative at all is the light was a little dim in the room.\\r\\nThe staff is very friendly & helpful. They were always willing to recommend restaurants and gave us coupons to the many attractions that San Diego has to offer. They let us use beach bikes to explore the island. There is little or no traffic there and a trail that is on the other side of the marina.\\r\\nIt was a great vacation!\\r\\nWe will be back!                                                                                                                                                                                                                                                                                                                                                                                                                                                                                                                                                                                                   \n",
       "\n",
       "    Browser_Used Device_Used Is_Response  \n",
       "0  Google Chrome  Desktop     Good        \n",
       "1  Firefox        Tablet      Good        \n",
       "2  Google Chrome  Mobile      Good        \n",
       "3  Mozilla        Desktop     Good        \n",
       "4  Google Chrome  Desktop     Good        "
      ]
     },
     "execution_count": 2,
     "metadata": {},
     "output_type": "execute_result"
    }
   ],
   "source": [
    "train_data=pd.read_csv(\"train.csv\",sep=\"~\")\n",
    "train_data.head()"
   ]
  },
  {
   "cell_type": "code",
   "execution_count": 3,
   "metadata": {},
   "outputs": [],
   "source": [
    "train_data.drop(['User_ID','Browser_Used','Device_Used'],inplace=True,axis=1)"
   ]
  },
  {
   "cell_type": "code",
   "execution_count": 4,
   "metadata": {},
   "outputs": [
    {
     "data": {
      "text/html": [
       "<div>\n",
       "<style scoped>\n",
       "    .dataframe tbody tr th:only-of-type {\n",
       "        vertical-align: middle;\n",
       "    }\n",
       "\n",
       "    .dataframe tbody tr th {\n",
       "        vertical-align: top;\n",
       "    }\n",
       "\n",
       "    .dataframe thead th {\n",
       "        text-align: right;\n",
       "    }\n",
       "</style>\n",
       "<table border=\"1\" class=\"dataframe\">\n",
       "  <thead>\n",
       "    <tr style=\"text-align: right;\">\n",
       "      <th></th>\n",
       "      <th>Description</th>\n",
       "      <th>Is_Response</th>\n",
       "    </tr>\n",
       "  </thead>\n",
       "  <tbody>\n",
       "    <tr>\n",
       "      <th>0</th>\n",
       "      <td>After reading mixed reviews I almost didn't book at the W, but I was attending a concert at the Pantages Theatre and you can't get any more convenient than the W. For those using mass transit, it's literally on top of the Hollywood and Vine station - take the Red Line from Union Station.\\r\\nATTITUDE: yes, this is a new and very hip hotel. But every staff member I met was friendly and totally committed to service. From the valet parking to the front desk to room service to the Men in Black (security folks needed for the club scene), everyone was great.\\r\\nFOOD: I always sample room service my first time at any property. Food arrived earlier than promised and I was impressed. The onion soup gratinee was simply the best I've ever had. A simple prime beef cheeseburger was great: a hand formed patty in a light bun with the usual trimmings and condiments. And the French fries... I've never been impressed by fries before but now I am.\\r\\nROOM: Trendy, well appointed and comfortable. The universal cell phone (or other gizmo) charger was handy. If you're worried about party noise from the clubs, spend a few extra bucks for an exterior-facing room. I did and had no trouble with noise.\\r\\nSUMMARY: Would I come here again? Absolutely.</td>\n",
       "      <td>Good</td>\n",
       "    </tr>\n",
       "    <tr>\n",
       "      <th>1</th>\n",
       "      <td>This motor inn is located about - city blocks from Fisherman's Warf and about - blocks from the Embarcadero. You are in North Beach and walking distance from China Town and all city transportation. The hotel itself is small and clean. It is old and not updated, but the beds were still good and the room was well cleaned daily. My only complaint would be the bathroom space being a bit small for our family. There was a great, large, flat screen (not that we were there very often)! The staff was extremely accommodating and helpful with recommendations and directions. There is free parking here, which is amazing!</td>\n",
       "      <td>Good</td>\n",
       "    </tr>\n",
       "    <tr>\n",
       "      <th>2</th>\n",
       "      <td>It was our first time there and surely not our last. Arrived very early off the train and went there to drop off our luggage but to our surprise the room was already ! The rooftop bar ia certainly beautiful. The hospitality within the hotel superb ! I admireed the european breakfast but wished they had more healthy choices. Perhaps a pan of scrambled eggs instead of all the pastries and rolls. Too many carbs and not enough protein. Wish there ahad been a coffe maker in the room too. See you all soon.</td>\n",
       "      <td>Good</td>\n",
       "    </tr>\n",
       "    <tr>\n",
       "      <th>3</th>\n",
       "      <td>Great hotel in an excellent location, just off Times Square and next door to the Nederlander Theatre (home of the musical Rent). Rooms very clean and lovely fresh muffins at breakfast!\\r\\nBeware if your room is on the first floor, we could hear the noise from the hotel bar below. It does close at a reasonable hour,but if you need an early night after a hard day sightseeing then ask for a high floor cos it did keep us awake.</td>\n",
       "      <td>Good</td>\n",
       "    </tr>\n",
       "    <tr>\n",
       "      <th>4</th>\n",
       "      <td>We stayed at the hotel for - weeks to get away from a very long Massachusetts winter. The hotel is on an island with a waterway in front and a marina in the back. Our room had a table so we could play cards eat etc. with the water view. \\r\\nThe only thing negative at all is the light was a little dim in the room.\\r\\nThe staff is very friendly &amp; helpful. They were always willing to recommend restaurants and gave us coupons to the many attractions that San Diego has to offer. They let us use beach bikes to explore the island. There is little or no traffic there and a trail that is on the other side of the marina.\\r\\nIt was a great vacation!\\r\\nWe will be back!</td>\n",
       "      <td>Good</td>\n",
       "    </tr>\n",
       "  </tbody>\n",
       "</table>\n",
       "</div>"
      ],
      "text/plain": [
       "                                                                                                                                                                                                                                                                                                                                                                                                                                                                                                                                                                                                                                                                                                                                                                                                                                                                                                                                                                                                                                                                                                                                                                                                                                                                                  Description  \\\n",
       "0  After reading mixed reviews I almost didn't book at the W, but I was attending a concert at the Pantages Theatre and you can't get any more convenient than the W. For those using mass transit, it's literally on top of the Hollywood and Vine station - take the Red Line from Union Station.\\r\\nATTITUDE: yes, this is a new and very hip hotel. But every staff member I met was friendly and totally committed to service. From the valet parking to the front desk to room service to the Men in Black (security folks needed for the club scene), everyone was great.\\r\\nFOOD: I always sample room service my first time at any property. Food arrived earlier than promised and I was impressed. The onion soup gratinee was simply the best I've ever had. A simple prime beef cheeseburger was great: a hand formed patty in a light bun with the usual trimmings and condiments. And the French fries... I've never been impressed by fries before but now I am.\\r\\nROOM: Trendy, well appointed and comfortable. The universal cell phone (or other gizmo) charger was handy. If you're worried about party noise from the clubs, spend a few extra bucks for an exterior-facing room. I did and had no trouble with noise.\\r\\nSUMMARY: Would I come here again? Absolutely.   \n",
       "1  This motor inn is located about - city blocks from Fisherman's Warf and about - blocks from the Embarcadero. You are in North Beach and walking distance from China Town and all city transportation. The hotel itself is small and clean. It is old and not updated, but the beds were still good and the room was well cleaned daily. My only complaint would be the bathroom space being a bit small for our family. There was a great, large, flat screen (not that we were there very often)! The staff was extremely accommodating and helpful with recommendations and directions. There is free parking here, which is amazing!                                                                                                                                                                                                                                                                                                                                                                                                                                                                                                                                                                                                                                                      \n",
       "2  It was our first time there and surely not our last. Arrived very early off the train and went there to drop off our luggage but to our surprise the room was already ! The rooftop bar ia certainly beautiful. The hospitality within the hotel superb ! I admireed the european breakfast but wished they had more healthy choices. Perhaps a pan of scrambled eggs instead of all the pastries and rolls. Too many carbs and not enough protein. Wish there ahad been a coffe maker in the room too. See you all soon.                                                                                                                                                                                                                                                                                                                                                                                                                                                                                                                                                                                                                                                                                                                                                                    \n",
       "3  Great hotel in an excellent location, just off Times Square and next door to the Nederlander Theatre (home of the musical Rent). Rooms very clean and lovely fresh muffins at breakfast!\\r\\nBeware if your room is on the first floor, we could hear the noise from the hotel bar below. It does close at a reasonable hour,but if you need an early night after a hard day sightseeing then ask for a high floor cos it did keep us awake.                                                                                                                                                                                                                                                                                                                                                                                                                                                                                                                                                                                                                                                                                                                                                                                                                                                  \n",
       "4  We stayed at the hotel for - weeks to get away from a very long Massachusetts winter. The hotel is on an island with a waterway in front and a marina in the back. Our room had a table so we could play cards eat etc. with the water view. \\r\\nThe only thing negative at all is the light was a little dim in the room.\\r\\nThe staff is very friendly & helpful. They were always willing to recommend restaurants and gave us coupons to the many attractions that San Diego has to offer. They let us use beach bikes to explore the island. There is little or no traffic there and a trail that is on the other side of the marina.\\r\\nIt was a great vacation!\\r\\nWe will be back!                                                                                                                                                                                                                                                                                                                                                                                                                                                                                                                                                                                                   \n",
       "\n",
       "  Is_Response  \n",
       "0  Good        \n",
       "1  Good        \n",
       "2  Good        \n",
       "3  Good        \n",
       "4  Good        "
      ]
     },
     "execution_count": 4,
     "metadata": {},
     "output_type": "execute_result"
    }
   ],
   "source": [
    "train_data.head()"
   ]
  },
  {
   "cell_type": "code",
   "execution_count": 5,
   "metadata": {},
   "outputs": [],
   "source": [
    "from nltk.corpus import stopwords\n",
    "from string import punctuation\n",
    "def review_to_words(review):\n",
    "    \n",
    "    text = re.sub(r\"[^a-zA-Z0-9]\", \" \", review.lower()) # Convert to lower case\n",
    "    words = text.split() # Split string into words\n",
    "    words = [w for w in words if w not in stopwords.words(\"english\")] # Remove stopwords\n",
    "    return words"
   ]
  },
  {
   "cell_type": "code",
   "execution_count": 6,
   "metadata": {},
   "outputs": [
    {
     "data": {
      "text/plain": [
       "'My mom and I stayed here for - nights on a short vacation to Seattle and were extremely happy with our accommodations here.\\r\\nCheck in was a breeze (if only our car rental had gone as smoothly) and the front desk clerk was cordial and friendly, giving us suggestions for attractions and dining nearby.\\r\\nThe room was clean and comfortable, and included a fridge, sink, coffee maker, and microwave in a pseudo \"\"\"\"\"\"\"\"\"\"\"\"\"\"\"\"\"\"\"\"\"\"\"\"\"\"\"\"\"\"\"\"bar\"\"\"\"\"\"\"\"\"\"\"\"\"\"\"\"\"\"\"\"\"\"\"\"\"\"\"\"\"\"\"\" area. They even included paper plates and utensils. \\r\\nFront desk and guest services were cordial and helpful, bringing me a full service set of extra coffee, mugs, spoons, sugar, half-half (which I suspect they borrowed from their on-site restaurant, Emerald Grill), when I only asked for extra packets of coffee and cream!\\r\\nOne of the best things about this hotel was the full business center, open ---hours, which is FREE to hotel guests. It was spacious (not like the closet-sized ones I\\'ve used in other hotels), had - computer stations with printers and a copy machine... all free of charge. I was able to get some late night work done thanks to Holiday Inn.\\r\\nMy only two minor complaints are that the bathroom was rather small, and the indoor parking spaces ($-- per night) were also too small to fit a standard-full size sedan and most people ended up taking two spaces.\\r\\nOverall, I am extremely happy with my stay here and wouldn\\'t hesitate to go back.'"
      ]
     },
     "execution_count": 6,
     "metadata": {},
     "output_type": "execute_result"
    }
   ],
   "source": [
    "train_data.Description[10]"
   ]
  },
  {
   "cell_type": "code",
   "execution_count": 7,
   "metadata": {},
   "outputs": [
    {
     "ename": "NameError",
     "evalue": "name 're' is not defined",
     "output_type": "error",
     "traceback": [
      "\u001b[1;31m---------------------------------------------------------------------------\u001b[0m",
      "\u001b[1;31mNameError\u001b[0m                                 Traceback (most recent call last)",
      "\u001b[1;32m<ipython-input-7-0fb18844753c>\u001b[0m in \u001b[0;36m<module>\u001b[1;34m\u001b[0m\n\u001b[1;32m----> 1\u001b[1;33m \u001b[0mreview_to_words\u001b[0m\u001b[1;33m(\u001b[0m\u001b[0mtrain_data\u001b[0m\u001b[1;33m.\u001b[0m\u001b[0mDescription\u001b[0m\u001b[1;33m[\u001b[0m\u001b[1;36m1\u001b[0m\u001b[1;33m]\u001b[0m\u001b[1;33m)\u001b[0m\u001b[1;33m\u001b[0m\u001b[1;33m\u001b[0m\u001b[0m\n\u001b[0m",
      "\u001b[1;32m<ipython-input-5-5b694c4afbd3>\u001b[0m in \u001b[0;36mreview_to_words\u001b[1;34m(review)\u001b[0m\n\u001b[0;32m      3\u001b[0m \u001b[1;32mdef\u001b[0m \u001b[0mreview_to_words\u001b[0m\u001b[1;33m(\u001b[0m\u001b[0mreview\u001b[0m\u001b[1;33m)\u001b[0m\u001b[1;33m:\u001b[0m\u001b[1;33m\u001b[0m\u001b[1;33m\u001b[0m\u001b[0m\n\u001b[0;32m      4\u001b[0m \u001b[1;33m\u001b[0m\u001b[0m\n\u001b[1;32m----> 5\u001b[1;33m     \u001b[0mtext\u001b[0m \u001b[1;33m=\u001b[0m \u001b[0mre\u001b[0m\u001b[1;33m.\u001b[0m\u001b[0msub\u001b[0m\u001b[1;33m(\u001b[0m\u001b[1;34mr\"[^a-zA-Z0-9]\"\u001b[0m\u001b[1;33m,\u001b[0m \u001b[1;34m\" \"\u001b[0m\u001b[1;33m,\u001b[0m \u001b[0mreview\u001b[0m\u001b[1;33m.\u001b[0m\u001b[0mlower\u001b[0m\u001b[1;33m(\u001b[0m\u001b[1;33m)\u001b[0m\u001b[1;33m)\u001b[0m \u001b[1;31m# Convert to lower case\u001b[0m\u001b[1;33m\u001b[0m\u001b[1;33m\u001b[0m\u001b[0m\n\u001b[0m\u001b[0;32m      6\u001b[0m     \u001b[0mwords\u001b[0m \u001b[1;33m=\u001b[0m \u001b[0mtext\u001b[0m\u001b[1;33m.\u001b[0m\u001b[0msplit\u001b[0m\u001b[1;33m(\u001b[0m\u001b[1;33m)\u001b[0m \u001b[1;31m# Split string into words\u001b[0m\u001b[1;33m\u001b[0m\u001b[1;33m\u001b[0m\u001b[0m\n\u001b[0;32m      7\u001b[0m     \u001b[0mwords\u001b[0m \u001b[1;33m=\u001b[0m \u001b[1;33m[\u001b[0m\u001b[0mw\u001b[0m \u001b[1;32mfor\u001b[0m \u001b[0mw\u001b[0m \u001b[1;32min\u001b[0m \u001b[0mwords\u001b[0m \u001b[1;32mif\u001b[0m \u001b[0mw\u001b[0m \u001b[1;32mnot\u001b[0m \u001b[1;32min\u001b[0m \u001b[0mstopwords\u001b[0m\u001b[1;33m.\u001b[0m\u001b[0mwords\u001b[0m\u001b[1;33m(\u001b[0m\u001b[1;34m\"english\"\u001b[0m\u001b[1;33m)\u001b[0m\u001b[1;33m]\u001b[0m \u001b[1;31m# Remove stopwords\u001b[0m\u001b[1;33m\u001b[0m\u001b[1;33m\u001b[0m\u001b[0m\n",
      "\u001b[1;31mNameError\u001b[0m: name 're' is not defined"
     ]
    }
   ],
   "source": [
    "review_to_words(train_data.Description[1])"
   ]
  },
  {
   "cell_type": "code",
   "execution_count": null,
   "metadata": {},
   "outputs": [],
   "source": []
  }
 ],
 "metadata": {
  "kernelspec": {
   "display_name": "Python 3",
   "language": "python",
   "name": "python3"
  },
  "language_info": {
   "codemirror_mode": {
    "name": "ipython",
    "version": 3
   },
   "file_extension": ".py",
   "mimetype": "text/x-python",
   "name": "python",
   "nbconvert_exporter": "python",
   "pygments_lexer": "ipython3",
   "version": "3.6.8"
  }
 },
 "nbformat": 4,
 "nbformat_minor": 2
}
